{
 "cells": [
  {
   "cell_type": "code",
   "execution_count": 1,
   "id": "9c8403b2-c6f7-4527-986f-49ebc6dab838",
   "metadata": {},
   "outputs": [
    {
     "name": "stdout",
     "output_type": "stream",
     "text": [
      "device cuda\n",
      "🦥 Unsloth: Will patch your computer to enable 2x faster free finetuning.\n",
      "🦥 Unsloth Zoo will now patch everything to make training faster!\n",
      "Core 1 Execution Time: 26 cycles\n",
      "Core 2 Execution Time: 9 cycles\n"
     ]
    }
   ],
   "source": [
    "import torch\n",
    "device = torch.device(\"cuda\" if torch.cuda.is_available() else \"cpu\")\n",
    "print(\"device\", device)\n",
    "from unsloth.chat_templates import get_chat_template\n",
    "from datasets import load_dataset\n",
    "import unsloth\n",
    "\n",
    "\n",
    "from unsloth import FastLanguageModel, is_bfloat16_supported\n",
    "import torch\n",
    "from transformers import Trainer, TrainingArguments\n",
    "from trl import SFTTrainer\n",
    "import re\n",
    "from join_string import join_strings\n",
    "from mcpu5 import simulate_dual_core"
   ]
  },
  {
   "cell_type": "code",
   "execution_count": 2,
   "id": "6420f65f-1064-4945-9173-4a06749010cb",
   "metadata": {},
   "outputs": [],
   "source": [
    "def code_extractor(inputs):\n",
    "    pattern = r'\"(.*?)\"'\n",
    "    # Using re.DOTALL to match across multiple lines\n",
    "    matches = re.findall(pattern, inputs, re.DOTALL)\n",
    "    \n",
    "    # Strip whitespace from each match\n",
    "    code_blocks = [match.strip() for match in matches]\n",
    "    #print(code_blocks)\n",
    "    return code_blocks"
   ]
  },
  {
   "cell_type": "code",
   "execution_count": 3,
   "id": "0f119319-a789-47f9-9e07-109e9f728a02",
   "metadata": {},
   "outputs": [],
   "source": [
    "def message2code(message):\n",
    "    inputs = tokenizer.apply_chat_template(\n",
    "        message,\n",
    "        tokenize = True,\n",
    "        add_generation_prompt = True, # Must add for generation\n",
    "        return_dict = True,\n",
    "        return_tensors = \"pt\",\n",
    "    ).to(\"cuda\")\n",
    "    outputs = model.generate(input_ids = inputs[\"input_ids\"],\n",
    "                        attention_mask = inputs[\"attention_mask\"],\n",
    "                        max_new_tokens = 256,\n",
    "                        use_cache = True)\n",
    "    outputs = tokenizer.batch_decode(outputs)[0]\n",
    "    print(\"outputs\", outputs)\n",
    "    out = code_extractor(outputs)\n",
    "    return out"
   ]
  },
  {
   "cell_type": "code",
   "execution_count": 4,
   "id": "3b2ce85f-dad1-4dac-bfe4-3cb79f39d210",
   "metadata": {},
   "outputs": [],
   "source": [
    "def make_random_code():\n",
    "    message_init = [\n",
    "    {\"from\": \"human\", \"value\": f\"\"\"I have a cpu simulator with registers R1 up to R10, and that takes assembly instructions STORE, LOAD, ADD, MUL as input. \\n\n",
    "    Here is an example of a list of instructions in this language:\n",
    "    \\n DIV R5, R6\\n SUB R7, R8 \\n LOAD R9, 30\\nADD R9, R10\\n\n",
    "    Can you write a random list of instructions each presented inside quotation marks please?\n",
    "    Please make a list between 1 and 20 instructions.\n",
    "        \"\"\"},\n",
    "    ]\n",
    "    return message2code(message_init)"
   ]
  },
  {
   "cell_type": "code",
   "execution_count": 5,
   "id": "084166a5-d7c0-4988-8ed5-97496e092514",
   "metadata": {},
   "outputs": [],
   "source": [
    "class History:\n",
    "    def __init__(self, max_size = 100):\n",
    "        self.max_size = max_size\n",
    "        self.memory_program = []\n",
    "        self.memory_signature = {\"core1_exec_time\":[],\n",
    "                                 \"core2_exec_time\":[]}\n",
    "        self.min_exec_time_core1 = None\n",
    "        self.max_exec_time_core1 = None\n",
    "        self.min_exec_time_core2 = None\n",
    "        self.max_exec_time_core2 = None\n",
    "    def store(self,sample:dict[list]):\n",
    "        for j in range(len(sample[\"program\"])):\n",
    "            self.memory_program.append(sample[\"program\"][j])\n",
    "            self.memory_signature[\"core1_exec_time\"].append(sample[\"signature\"][j][\"core1_exec_time\"])\n",
    "            self.memory_signature[\"core2_exec_time\"].append(sample[\"signature\"][j][\"core2_exec_time\"])\n",
    "        self.eviction()\n",
    "        \n",
    "    def eviction(self):\n",
    "        if len(self.memory_program)>self.max_size:\n",
    "            self.memory_program = self.memory_program[-self.max_size:]\n",
    "            self.memory_signature = self.memory_signature[-self.max_size:]\n",
    "    def select_closest_code(self,signature: dict)->dict:\n",
    "        min_distance = 0\n",
    "        idx = 0\n",
    "        for j,signature_buffer in enumerate(self.memory_signature):\n",
    "            dist = 0\n",
    "            for k in signature_buffer.keys():\n",
    "                dist += (signature_buffer[k] - signature[k])**2\n",
    "            if min_distance:\n",
    "                if dist<min_distance:\n",
    "                    min_distance= dist\n",
    "                    idx = j\n",
    "            else:\n",
    "                min_distance = dist\n",
    "                idx = j\n",
    "        return {\"code\": self.code_list[idx] ,\"signature\": self.signature_list[idx]}"
   ]
  },
  {
   "cell_type": "code",
   "execution_count": 6,
   "id": "9dc353f6-0a8e-42e6-90aa-c681fa25ec69",
   "metadata": {},
   "outputs": [],
   "source": [
    "class GoalGenerator:\n",
    "    def __init__(self):\n",
    "        pass"
   ]
  },
  {
   "cell_type": "code",
   "execution_count": 7,
   "id": "bc5a97a8-8872-4481-8260-c7394df490c3",
   "metadata": {},
   "outputs": [],
   "source": [
    "class OptimizationPolicy:\n",
    "    \"\"\"\n",
    "    Selects a parameter based on a chosen goal and the history.\n",
    "    Takes the code corresponding to the closest signature to the desired goal signature\n",
    "    \"\"\"\n",
    "    def __init__(self):    \n",
    "        pass\n",
    "    def __call__(goal:dict[list],H:History):\n",
    "        closest_code = H.select_closest_code(goal) #most promising sample from the history\n",
    "        output = self.light_code_mutation(closest_code) #expansion strategie: small random mutation\n",
    "    def light_code_mutation(self,program:list[str]):\n",
    "        messages = [\n",
    "        {\"from\": \"human\", \"value\": f\"\"\"I have a cpu simulator with registers R1 up to R10, and that takes assembly instructions STORE, LOAD, ADD, MUL as input. \\n\n",
    "        Here is an example of a list of instructions in this language:\n",
    "        \\n DIV R5, R6\\n SUB R7, R8 \\n LOAD R9, 30\\nADD R9, R10\\n\n",
    "        \n",
    "        A mutation of a list of instructions consists in inserting, deleting or replacing a few instruction in program. For instance, here is a mutation of the list above. I added a the instruction LOAD in the fist line and I have replaced the last instruction by an instruction STORE.\n",
    "        \n",
    "        \\nLOAD R4, 30\\n DIV R5, R6\\n SUB R7, R8 \\n LOAD R9, 30\\nSTORE R1, 20\\n\n",
    "        \n",
    "        Can you perform a single light mutation based on the following list of instructions bellow?     \n",
    "        Your answer has to be in the following format:\n",
    "        \n",
    "            Mutated list of intructions inside quotation marks\n",
    "            Reflexion on how you mutate it\n",
    "        List of instructions:\n",
    "        {join_strings(program)}\n",
    "            \"\"\"},\n",
    "        ]\n",
    "        return message2code(messages)"
   ]
  },
  {
   "cell_type": "code",
   "execution_count": 8,
   "id": "74878ec8-e250-47f7-ab9c-727857aeee39",
   "metadata": {},
   "outputs": [],
   "source": [
    "class IMGEP:\n",
    "    def __init__(self,N:int, N_init:int,H:History, G:GoalGenerator, Pi:OptimizationPolicy):\n",
    "        \"\"\"\n",
    "        N: int. The experimental budget\n",
    "        \"\"\"\n",
    "        self.N = N\n",
    "        self.H = H\n",
    "        self.G = G\n",
    "        self.N_init = N_init\n",
    "        self.Pi = Pi\n",
    "    def __call__(self):\n",
    "        for i in range(self.N):\n",
    "            if i<self.N_init:\n",
    "                #Initial random iterations\n",
    "                core1_code = make_random_code()\n",
    "            else:\n",
    "                break\n",
    "                #Sample target goal\n",
    "                goal_code = self.G(self.H)\n",
    "                core1_code = self.Pi(goal_code,self.H)\n",
    "                 \n",
    "            core1_exec_time, core2_exec_time = simulate_dual_core(\n",
    "            core1_code = core1_code,\n",
    "            core2_code =[\"MUL R3, R4\",\n",
    "                        \"STORE R1, 20\",\n",
    "                        \"MOV R5, R6\",\n",
    "                        \"LOAD R1, 10\",\n",
    "                        \"ADD R1, R2\",\n",
    "                        \"MUL R3, R4\",])\n",
    "            self.H.store({\"program\":[core1_code],\n",
    "                         \"signature\": [{\"core1_exec_time\":core1_exec_time,\n",
    "                                        \"core2_exec_time\": core2_exec_time}]})"
   ]
  },
  {
   "cell_type": "code",
   "execution_count": 9,
   "id": "c96ae0ab-436d-4988-a61c-038b99826f16",
   "metadata": {},
   "outputs": [
    {
     "name": "stdout",
     "output_type": "stream",
     "text": [
      "==((====))==  Unsloth 2025.3.9: Fast Llama patching. Transformers: 4.49.0. vLLM: 0.7.3.\n",
      "   \\\\   /|    NVIDIA RTX 2000 Ada Generation Laptop GPU. Num GPUs = 1. Max memory: 7.754 GB. Platform: Linux.\n",
      "O^O/ \\_/ \\    Torch: 2.5.1+cu124. CUDA: 8.9. CUDA Toolkit: 12.4. Triton: 3.1.0\n",
      "\\        /    Bfloat16 = TRUE. FA [Xformers = 0.0.28.post3. FA2 = False]\n",
      " \"-____-\"     Free license: http://github.com/unslothai/unsloth\n",
      "Unsloth: Fast downloading is enabled - ignore downloading bars which are red colored!\n"
     ]
    },
    {
     "name": "stderr",
     "output_type": "stream",
     "text": [
      "Unsloth: Will map <|im_end|> to EOS = <|eot_id|>.\n",
      "Unsloth 2025.3.9 patched 32 layers with 32 QKV layers, 32 O layers and 32 MLP layers.\n"
     ]
    }
   ],
   "source": [
    "max_seq_length = 512# Can increase for longer reasoning traces\n",
    "try:\n",
    "    model, tokenizer = FastLanguageModel.from_pretrained(\n",
    "    #model_name = \"mistralai/Mistral-7B-v0.1\",\n",
    "    model_name = \"meta-llama/meta-Llama-3.1-8B-Instruct\",\n",
    "    max_seq_length = max_seq_length,\n",
    "    #load_in_4bit = True, # False for LoRA 16bit\n",
    "    #fast_inference = True, # Enable vLLM fast inference\n",
    "    #max_lora_rank = lora_rank,\n",
    "    #gpu_memory_utilization = 0.1, # Reduce if out of memory\n",
    "    )\n",
    "\n",
    "\n",
    "    tokenizer = get_chat_template(\n",
    "        tokenizer,\n",
    "        chat_template = \"chatml\", # Supports zephyr, chatml, mistral, llama, alpaca, vicuna, vicuna_old, unsloth\n",
    "        mapping = {\"role\" : \"from\", \"content\" : \"value\", \"user\" : \"human\", \"assistant\" : \"gpt\"}, # ShareGPT style\n",
    "        map_eos_token = True, # Maps <|im_end|> to </s> instead\n",
    "    )\n",
    "\n",
    "    model = FastLanguageModel.get_peft_model(\n",
    "        model,\n",
    "    )\n",
    "except:\n",
    "    print(\"Maybe the model is already specified\")"
   ]
  },
  {
   "cell_type": "code",
   "execution_count": 10,
   "id": "884d48bd-d2b5-43dd-8b08-b765c7e01e43",
   "metadata": {},
   "outputs": [],
   "source": [
    "H = History(max_size = 100)"
   ]
  },
  {
   "cell_type": "code",
   "execution_count": 11,
   "id": "852d183d-c5ea-48e2-bde3-b0db771fded1",
   "metadata": {},
   "outputs": [],
   "source": [
    "Pi = OptimizationPolicy()"
   ]
  },
  {
   "cell_type": "code",
   "execution_count": 12,
   "id": "6a1afa46-1171-4f45-b9e1-dffa5bb3e84a",
   "metadata": {},
   "outputs": [],
   "source": [
    "G = GoalGenerator()"
   ]
  },
  {
   "cell_type": "code",
   "execution_count": 13,
   "id": "8361ae3f-5d34-484a-82f5-31127bb9979a",
   "metadata": {},
   "outputs": [],
   "source": [
    "imgep = IMGEP(N=3, N_init = 3,H=H, G=G, Pi=Pi)"
   ]
  },
  {
   "cell_type": "code",
   "execution_count": 14,
   "id": "435cdd6b-611f-4050-86a2-9a9af49275a1",
   "metadata": {},
   "outputs": [
    {
     "name": "stdout",
     "output_type": "stream",
     "text": [
      "outputs <|im_start|>user\n",
      "I have a cpu simulator with registers R1 up to R10, and that takes assembly instructions STORE, LOAD, ADD, MUL as input. \n",
      "\n",
      "    Here is an example of a list of instructions in this language:\n",
      "    \n",
      " DIV R5, R6\n",
      " SUB R7, R8 \n",
      " LOAD R9, 30\n",
      "ADD R9, R10\n",
      "\n",
      "    Can you write a random list of instructions each presented inside quotation marks please?\n",
      "    Please make a list between 1 and 20 instructions.\n",
      "        <|im_end|>\n",
      "<|im_start|>assistant\n",
      "Here is a list of 15 random instructions:\n",
      "\n",
      "\"LOAD R2, 50\"\n",
      "\"STORE R3, R1\"\n",
      "\"MUL R4, R5\"\n",
      "\"ADD R6, R7\"\n",
      "\"LOAD R8, 20\"\n",
      "\"SUB R9, R10\"\n",
      "\"STORE R1, R2\"\n",
      "\"DIV R3, R4\"\n",
      "\"LOAD R5, 10\"\n",
      "\"ADD R6, R8\"\n",
      "\"MUL R7, R9\"\n",
      "\"LOAD R10, 40\"\n",
      "\"STORE R4, R6\"\n",
      "\"SUB R1, R3\"\n",
      "\"LOAD R9, 15\"<|im_end|>\n",
      "outputs <|im_start|>user\n",
      "I have a cpu simulator with registers R1 up to R10, and that takes assembly instructions STORE, LOAD, ADD, MUL as input. \n",
      "\n",
      "    Here is an example of a list of instructions in this language:\n",
      "    \n",
      " DIV R5, R6\n",
      " SUB R7, R8 \n",
      " LOAD R9, 30\n",
      "ADD R9, R10\n",
      "\n",
      "    Can you write a random list of instructions each presented inside quotation marks please?\n",
      "    Please make a list between 1 and 20 instructions.\n",
      "        <|im_end|>\n",
      "<|im_start|>assistant\n",
      "Here is a list of 15 random instructions in the given language:\n",
      "\n",
      "\"STORE R3, R1\"\n",
      "\"MUL R5, R7\"\n",
      "\"LOAD R2, 50\"\n",
      "\"SUB R9, R10\"\n",
      "\"ADD R6, R8\"\n",
      "\"STORE R4, R9\"\n",
      "\"MUL R1, R5\"\n",
      "\"LOAD R6, 20\"\n",
      "\"ADD R7, R3\"\n",
      "\"STORE R10, R2\"\n",
      "\"MUL R8, R9\"\n",
      "\"LOAD R5, 10\"\n",
      "\"ADD R1, R6\"\n",
      "\"STORE R9, R7\"\n",
      "\"LOAD R3, 40\"\n",
      "\n",
      "Note: I've assumed that the instructions are valid and the registers are initialized with some values before executing these instructions.<|im_end|>\n",
      "outputs <|im_start|>user\n",
      "I have a cpu simulator with registers R1 up to R10, and that takes assembly instructions STORE, LOAD, ADD, MUL as input. \n",
      "\n",
      "    Here is an example of a list of instructions in this language:\n",
      "    \n",
      " DIV R5, R6\n",
      " SUB R7, R8 \n",
      " LOAD R9, 30\n",
      "ADD R9, R10\n",
      "\n",
      "    Can you write a random list of instructions each presented inside quotation marks please?\n",
      "    Please make a list between 1 and 20 instructions.\n",
      "        <|im_end|>\n",
      "<|im_start|>assistant\n",
      "Here is a list of 10 random instructions in the language:\n",
      "\n",
      "\"LOAD R3, 50\"\n",
      "\"MUL R6, R7\"\n",
      "\"SUB R1, R2\"\n",
      "\"LOAD R4, 20\"\n",
      "\"ADD R5, R6\"\n",
      "\"LOAD R8, 10\"\n",
      "\"STORE R9, R10\"\n",
      "\"MUL R1, R3\"\n",
      "\"LOAD R2, 40\"\n",
      "\"ADD R9, R5\"\n",
      "\n",
      "Let me know if you'd like me to generate a new list or modify this one in any way!<|im_end|>\n"
     ]
    }
   ],
   "source": [
    "imgep()"
   ]
  },
  {
   "cell_type": "code",
   "execution_count": 15,
   "id": "bb603127-c07b-4649-bfdc-a3c265d8ef4d",
   "metadata": {},
   "outputs": [
    {
     "data": {
      "text/plain": [
       "{'core1_exec_time': [32, 29, 21], 'core2_exec_time': [14, 12, 14]}"
      ]
     },
     "execution_count": 15,
     "metadata": {},
     "output_type": "execute_result"
    }
   ],
   "source": [
    "H.memory_signature"
   ]
  },
  {
   "cell_type": "code",
   "execution_count": null,
   "id": "7b7eacee-8e20-4135-beec-aee44c99bd1f",
   "metadata": {},
   "outputs": [],
   "source": []
  },
  {
   "cell_type": "code",
   "execution_count": 17,
   "id": "17c665fc-aa2e-47a3-97b4-7f514cb9e52e",
   "metadata": {},
   "outputs": [],
   "source": [
    "program1 = [\"MOV R1, R2\",\n",
    "    \"LOAD R1, 10\",\n",
    "    \"ADD R1, R2\",\n",
    "    \"MUL R3, R4\",\n",
    "    \"STORE R1, 20\",\n",
    "    \"MOV R5, R6\",\n",
    "    \"LOAD R1, 10\",\n",
    "    \"ADD R1, R2\",\n",
    "    \"MUL R3, R4\",\n",
    "    \"STORE R1, 20\",\n",
    "    \"DIV R5, R6\",\n",
    "    \"SUB R7, R8\",\n",
    "    \"LOAD R9, 30\",\n",
    "    \"ADD R9, R10\"]\n",
    "\n",
    "messages = [\n",
    "    {\"from\": \"human\", \"value\": f\"\"\"I have a cpu simulator with registers R1 up to R10, and that takes assembly instructions STORE, LOAD, ADD, MUL as input. \\n\n",
    "Here is an example of a list of instructions in this language:\n",
    "\\n DIV R5, R6\\n SUB R7, R8 \\n LOAD R9, 30\\nADD R9, R10\\n\n",
    "\n",
    "A mutation of a list of instructions consists in inserting, deleting or replacing a few instruction in program. For instance, here is a mutation of the list above. I added a the instruction LOAD in the fist line and I have replaced the last instruction by an instruction STORE.\n",
    "\n",
    "\\nLOAD R4, 30\\n DIV R5, R6\\n SUB R7, R8 \\n LOAD R9, 30\\nSTORE R1, 20\\n\n",
    "\n",
    "Can you perform a single light mutation based on the following list of instructions bellow?     \n",
    "Your answer has to be in the following format:\n",
    "\n",
    "    Mutated list of intructions inside quotation marks\n",
    "    Reflexion on how you mutate it\n",
    "List of instructions:\n",
    "{join_strings(program1)}\n",
    "    \"\"\"},\n",
    "]"
   ]
  },
  {
   "cell_type": "code",
   "execution_count": null,
   "id": "846c0a92-8c9f-43de-aa99-f7153553ac35",
   "metadata": {},
   "outputs": [],
   "source": []
  }
 ],
 "metadata": {
  "kernelspec": {
   "display_name": "Python 3 (ipykernel)",
   "language": "python",
   "name": "python3"
  },
  "language_info": {
   "codemirror_mode": {
    "name": "ipython",
    "version": 3
   },
   "file_extension": ".py",
   "mimetype": "text/x-python",
   "name": "python",
   "nbconvert_exporter": "python",
   "pygments_lexer": "ipython3",
   "version": "3.10.12"
  }
 },
 "nbformat": 4,
 "nbformat_minor": 5
}
